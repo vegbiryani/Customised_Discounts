{
 "cells": [
  {
   "cell_type": "code",
   "execution_count": 1,
   "metadata": {},
   "outputs": [],
   "source": [
    "# Data Ingestion\n",
    "\n",
    "import pandas as pd\n",
    "import numpy as np\n",
    "import seaborn as sns\n",
    "import matplotlib.pyplot as plt\n",
    "\n",
    "%matplotlib inline\n",
    "\n",
    "import math"
   ]
  },
  {
   "cell_type": "code",
   "execution_count": 2,
   "metadata": {},
   "outputs": [
    {
     "data": {
      "text/html": [
       "<div>\n",
       "<style scoped>\n",
       "    .dataframe tbody tr th:only-of-type {\n",
       "        vertical-align: middle;\n",
       "    }\n",
       "\n",
       "    .dataframe tbody tr th {\n",
       "        vertical-align: top;\n",
       "    }\n",
       "\n",
       "    .dataframe thead th {\n",
       "        text-align: right;\n",
       "    }\n",
       "</style>\n",
       "<table border=\"1\" class=\"dataframe\">\n",
       "  <thead>\n",
       "    <tr style=\"text-align: right;\">\n",
       "      <th></th>\n",
       "      <th>Ship_to_ID</th>\n",
       "      <th>Volume_2019_customer_level</th>\n",
       "      <th>Volume_2018_customer_level</th>\n",
       "      <th>sfdc_tier</th>\n",
       "      <th>poc_image</th>\n",
       "      <th>segment</th>\n",
       "      <th>sub_segment</th>\n",
       "      <th>Product_Set</th>\n",
       "      <th>Brand</th>\n",
       "      <th>Sub_Brand</th>\n",
       "      <th>Pack_Type</th>\n",
       "      <th>Returnalility</th>\n",
       "      <th>GTO_2019</th>\n",
       "      <th>OnInvoice Discount(LCU)</th>\n",
       "      <th>OffInvoice Discount(LCU)</th>\n",
       "      <th>Volume_2019</th>\n",
       "      <th>Tax</th>\n",
       "      <th>province</th>\n",
       "      <th>Discount_Total</th>\n",
       "    </tr>\n",
       "  </thead>\n",
       "  <tbody>\n",
       "    <tr>\n",
       "      <th>0</th>\n",
       "      <td>29000332</td>\n",
       "      <td>0.48</td>\n",
       "      <td>0.557</td>\n",
       "      <td>Tier 0</td>\n",
       "      <td>Mainstream</td>\n",
       "      <td>Entertainment Led</td>\n",
       "      <td>Events</td>\n",
       "      <td>RETURNABLE_BOTTLE_JUPILER_JUPILER PILS</td>\n",
       "      <td>JUPILER</td>\n",
       "      <td>JUPILER PILS</td>\n",
       "      <td>BOTTLE</td>\n",
       "      <td>RETURNABLE</td>\n",
       "      <td>141.20</td>\n",
       "      <td>0.00</td>\n",
       "      <td>0.00</td>\n",
       "      <td>0.48</td>\n",
       "      <td>12.23</td>\n",
       "      <td>Brussels Capital Region</td>\n",
       "      <td>0.00</td>\n",
       "    </tr>\n",
       "    <tr>\n",
       "      <th>1</th>\n",
       "      <td>29000441</td>\n",
       "      <td>0.45</td>\n",
       "      <td>0.540</td>\n",
       "      <td>Tier 1</td>\n",
       "      <td>Mainstream</td>\n",
       "      <td>Not applicable</td>\n",
       "      <td>Not applicable</td>\n",
       "      <td>RETURNABLE_BOTTLE_PIEDBOEUF_PIEDBOEUF TRIPLE</td>\n",
       "      <td>PIEDBOEUF</td>\n",
       "      <td>PIEDBOEUF TRIPLE</td>\n",
       "      <td>BOTTLE</td>\n",
       "      <td>RETURNABLE</td>\n",
       "      <td>113.65</td>\n",
       "      <td>0.00</td>\n",
       "      <td>0.00</td>\n",
       "      <td>0.45</td>\n",
       "      <td>7.85</td>\n",
       "      <td>Liège</td>\n",
       "      <td>0.00</td>\n",
       "    </tr>\n",
       "    <tr>\n",
       "      <th>2</th>\n",
       "      <td>29000452</td>\n",
       "      <td>270.97</td>\n",
       "      <td>225.720</td>\n",
       "      <td>Tier 1</td>\n",
       "      <td>Mainstream</td>\n",
       "      <td>Drink Led</td>\n",
       "      <td>Party Place</td>\n",
       "      <td>OW_BULK_JUPILER_JUPILER PILS</td>\n",
       "      <td>JUPILER</td>\n",
       "      <td>JUPILER PILS</td>\n",
       "      <td>BULK</td>\n",
       "      <td>OW</td>\n",
       "      <td>61551.06</td>\n",
       "      <td>14511.46</td>\n",
       "      <td>0.00</td>\n",
       "      <td>238.57</td>\n",
       "      <td>3577.69</td>\n",
       "      <td>Antwerp</td>\n",
       "      <td>14511.46</td>\n",
       "    </tr>\n",
       "    <tr>\n",
       "      <th>3</th>\n",
       "      <td>29000452</td>\n",
       "      <td>270.97</td>\n",
       "      <td>225.720</td>\n",
       "      <td>Tier 1</td>\n",
       "      <td>Mainstream</td>\n",
       "      <td>Drink Led</td>\n",
       "      <td>Party Place</td>\n",
       "      <td>RETURNABLE_BOTTLE_JUPILER_JUPILER PILS</td>\n",
       "      <td>JUPILER</td>\n",
       "      <td>JUPILER PILS</td>\n",
       "      <td>BOTTLE</td>\n",
       "      <td>RETURNABLE</td>\n",
       "      <td>6001.00</td>\n",
       "      <td>1425.19</td>\n",
       "      <td>180.00</td>\n",
       "      <td>20.40</td>\n",
       "      <td>519.41</td>\n",
       "      <td>Antwerp</td>\n",
       "      <td>1605.19</td>\n",
       "    </tr>\n",
       "    <tr>\n",
       "      <th>4</th>\n",
       "      <td>29000452</td>\n",
       "      <td>270.97</td>\n",
       "      <td>225.720</td>\n",
       "      <td>Tier 1</td>\n",
       "      <td>Mainstream</td>\n",
       "      <td>Drink Led</td>\n",
       "      <td>Party Place</td>\n",
       "      <td>RETURNABLE_KEG_JUPILER_JUPILER PILS</td>\n",
       "      <td>JUPILER</td>\n",
       "      <td>JUPILER PILS</td>\n",
       "      <td>KEG</td>\n",
       "      <td>RETURNABLE</td>\n",
       "      <td>3051.36</td>\n",
       "      <td>718.32</td>\n",
       "      <td>0.00</td>\n",
       "      <td>12.00</td>\n",
       "      <td>288.63</td>\n",
       "      <td>Antwerp</td>\n",
       "      <td>718.32</td>\n",
       "    </tr>\n",
       "    <tr>\n",
       "      <th>5</th>\n",
       "      <td>29000507</td>\n",
       "      <td>29.61</td>\n",
       "      <td>25.860</td>\n",
       "      <td>Tier 2</td>\n",
       "      <td>Mainstream</td>\n",
       "      <td>Institutional</td>\n",
       "      <td>Institutional</td>\n",
       "      <td>RETURNABLE_BOTTLE_JUPILER_JUPILER 0,0</td>\n",
       "      <td>JUPILER</td>\n",
       "      <td>JUPILER 0,0</td>\n",
       "      <td>BOTTLE</td>\n",
       "      <td>RETURNABLE</td>\n",
       "      <td>104.10</td>\n",
       "      <td>0.00</td>\n",
       "      <td>0.00</td>\n",
       "      <td>0.30</td>\n",
       "      <td>1.55</td>\n",
       "      <td>Namur</td>\n",
       "      <td>0.00</td>\n",
       "    </tr>\n",
       "    <tr>\n",
       "      <th>6</th>\n",
       "      <td>29000507</td>\n",
       "      <td>29.61</td>\n",
       "      <td>25.860</td>\n",
       "      <td>Tier 2</td>\n",
       "      <td>Mainstream</td>\n",
       "      <td>Institutional</td>\n",
       "      <td>Institutional</td>\n",
       "      <td>RETURNABLE_BOTTLE_JUPILER_JUPILER PILS</td>\n",
       "      <td>JUPILER</td>\n",
       "      <td>JUPILER PILS</td>\n",
       "      <td>BOTTLE</td>\n",
       "      <td>RETURNABLE</td>\n",
       "      <td>176.50</td>\n",
       "      <td>0.00</td>\n",
       "      <td>0.00</td>\n",
       "      <td>0.60</td>\n",
       "      <td>15.27</td>\n",
       "      <td>Namur</td>\n",
       "      <td>0.00</td>\n",
       "    </tr>\n",
       "    <tr>\n",
       "      <th>7</th>\n",
       "      <td>29000507</td>\n",
       "      <td>29.61</td>\n",
       "      <td>25.860</td>\n",
       "      <td>Tier 2</td>\n",
       "      <td>Mainstream</td>\n",
       "      <td>Institutional</td>\n",
       "      <td>Institutional</td>\n",
       "      <td>RETURNABLE_BOTTLE_PIEDBOEUF_PIEDBOEUF BLONDE</td>\n",
       "      <td>PIEDBOEUF</td>\n",
       "      <td>PIEDBOEUF BLONDE</td>\n",
       "      <td>BOTTLE</td>\n",
       "      <td>RETURNABLE</td>\n",
       "      <td>2227.65</td>\n",
       "      <td>0.00</td>\n",
       "      <td>686.13</td>\n",
       "      <td>11.34</td>\n",
       "      <td>61.37</td>\n",
       "      <td>Namur</td>\n",
       "      <td>686.13</td>\n",
       "    </tr>\n",
       "    <tr>\n",
       "      <th>8</th>\n",
       "      <td>29000507</td>\n",
       "      <td>29.61</td>\n",
       "      <td>25.860</td>\n",
       "      <td>Tier 2</td>\n",
       "      <td>Mainstream</td>\n",
       "      <td>Institutional</td>\n",
       "      <td>Institutional</td>\n",
       "      <td>RETURNABLE_BOTTLE_PIEDBOEUF_PIEDBOEUF FONCEE</td>\n",
       "      <td>PIEDBOEUF</td>\n",
       "      <td>PIEDBOEUF FONCEE</td>\n",
       "      <td>BOTTLE</td>\n",
       "      <td>RETURNABLE</td>\n",
       "      <td>3412.19</td>\n",
       "      <td>0.00</td>\n",
       "      <td>1050.98</td>\n",
       "      <td>17.37</td>\n",
       "      <td>94.12</td>\n",
       "      <td>Namur</td>\n",
       "      <td>1050.98</td>\n",
       "    </tr>\n",
       "    <tr>\n",
       "      <th>9</th>\n",
       "      <td>29000721</td>\n",
       "      <td>0.42</td>\n",
       "      <td>0.505</td>\n",
       "      <td>Tier 2</td>\n",
       "      <td>Mainstream</td>\n",
       "      <td>Institutional</td>\n",
       "      <td>Institutional</td>\n",
       "      <td>RETURNABLE_BOTTLE_JUPILER_JUPILER 0,0</td>\n",
       "      <td>JUPILER</td>\n",
       "      <td>JUPILER 0,0</td>\n",
       "      <td>BOTTLE</td>\n",
       "      <td>RETURNABLE</td>\n",
       "      <td>20.82</td>\n",
       "      <td>6.15</td>\n",
       "      <td>0.00</td>\n",
       "      <td>0.06</td>\n",
       "      <td>0.31</td>\n",
       "      <td>Antwerp</td>\n",
       "      <td>6.15</td>\n",
       "    </tr>\n",
       "  </tbody>\n",
       "</table>\n",
       "</div>"
      ],
      "text/plain": [
       "   Ship_to_ID  Volume_2019_customer_level  Volume_2018_customer_level  \\\n",
       "0    29000332                        0.48                       0.557   \n",
       "1    29000441                        0.45                       0.540   \n",
       "2    29000452                      270.97                     225.720   \n",
       "3    29000452                      270.97                     225.720   \n",
       "4    29000452                      270.97                     225.720   \n",
       "5    29000507                       29.61                      25.860   \n",
       "6    29000507                       29.61                      25.860   \n",
       "7    29000507                       29.61                      25.860   \n",
       "8    29000507                       29.61                      25.860   \n",
       "9    29000721                        0.42                       0.505   \n",
       "\n",
       "  sfdc_tier   poc_image            segment     sub_segment  \\\n",
       "0    Tier 0  Mainstream  Entertainment Led          Events   \n",
       "1    Tier 1  Mainstream     Not applicable  Not applicable   \n",
       "2    Tier 1  Mainstream          Drink Led     Party Place   \n",
       "3    Tier 1  Mainstream          Drink Led     Party Place   \n",
       "4    Tier 1  Mainstream          Drink Led     Party Place   \n",
       "5    Tier 2  Mainstream      Institutional   Institutional   \n",
       "6    Tier 2  Mainstream      Institutional   Institutional   \n",
       "7    Tier 2  Mainstream      Institutional   Institutional   \n",
       "8    Tier 2  Mainstream      Institutional   Institutional   \n",
       "9    Tier 2  Mainstream      Institutional   Institutional   \n",
       "\n",
       "                                    Product_Set      Brand         Sub_Brand  \\\n",
       "0        RETURNABLE_BOTTLE_JUPILER_JUPILER PILS    JUPILER      JUPILER PILS   \n",
       "1  RETURNABLE_BOTTLE_PIEDBOEUF_PIEDBOEUF TRIPLE  PIEDBOEUF  PIEDBOEUF TRIPLE   \n",
       "2                  OW_BULK_JUPILER_JUPILER PILS    JUPILER      JUPILER PILS   \n",
       "3        RETURNABLE_BOTTLE_JUPILER_JUPILER PILS    JUPILER      JUPILER PILS   \n",
       "4           RETURNABLE_KEG_JUPILER_JUPILER PILS    JUPILER      JUPILER PILS   \n",
       "5         RETURNABLE_BOTTLE_JUPILER_JUPILER 0,0    JUPILER       JUPILER 0,0   \n",
       "6        RETURNABLE_BOTTLE_JUPILER_JUPILER PILS    JUPILER      JUPILER PILS   \n",
       "7  RETURNABLE_BOTTLE_PIEDBOEUF_PIEDBOEUF BLONDE  PIEDBOEUF  PIEDBOEUF BLONDE   \n",
       "8  RETURNABLE_BOTTLE_PIEDBOEUF_PIEDBOEUF FONCEE  PIEDBOEUF  PIEDBOEUF FONCEE   \n",
       "9         RETURNABLE_BOTTLE_JUPILER_JUPILER 0,0    JUPILER       JUPILER 0,0   \n",
       "\n",
       "  Pack_Type Returnalility  GTO_2019  OnInvoice Discount(LCU)  \\\n",
       "0    BOTTLE    RETURNABLE    141.20                     0.00   \n",
       "1    BOTTLE    RETURNABLE    113.65                     0.00   \n",
       "2      BULK            OW  61551.06                 14511.46   \n",
       "3    BOTTLE    RETURNABLE   6001.00                  1425.19   \n",
       "4       KEG    RETURNABLE   3051.36                   718.32   \n",
       "5    BOTTLE    RETURNABLE    104.10                     0.00   \n",
       "6    BOTTLE    RETURNABLE    176.50                     0.00   \n",
       "7    BOTTLE    RETURNABLE   2227.65                     0.00   \n",
       "8    BOTTLE    RETURNABLE   3412.19                     0.00   \n",
       "9    BOTTLE    RETURNABLE     20.82                     6.15   \n",
       "\n",
       "   OffInvoice Discount(LCU)  Volume_2019      Tax                 province  \\\n",
       "0                      0.00         0.48    12.23  Brussels Capital Region   \n",
       "1                      0.00         0.45     7.85                    Liège   \n",
       "2                      0.00       238.57  3577.69                  Antwerp   \n",
       "3                    180.00        20.40   519.41                  Antwerp   \n",
       "4                      0.00        12.00   288.63                  Antwerp   \n",
       "5                      0.00         0.30     1.55                    Namur   \n",
       "6                      0.00         0.60    15.27                    Namur   \n",
       "7                    686.13        11.34    61.37                    Namur   \n",
       "8                   1050.98        17.37    94.12                    Namur   \n",
       "9                      0.00         0.06     0.31                  Antwerp   \n",
       "\n",
       "   Discount_Total  \n",
       "0            0.00  \n",
       "1            0.00  \n",
       "2        14511.46  \n",
       "3         1605.19  \n",
       "4          718.32  \n",
       "5            0.00  \n",
       "6            0.00  \n",
       "7          686.13  \n",
       "8         1050.98  \n",
       "9            6.15  "
      ]
     },
     "execution_count": 2,
     "metadata": {},
     "output_type": "execute_result"
    }
   ],
   "source": [
    "data = pd.read_csv(\"Belgium_Dataset.csv\",encoding='latin-1')\n",
    "data.head(10)  #first ten observations of the data set"
   ]
  },
  {
   "cell_type": "code",
   "execution_count": 3,
   "metadata": {},
   "outputs": [
    {
     "data": {
      "text/plain": [
       "(39859, 19)"
      ]
     },
     "execution_count": 3,
     "metadata": {},
     "output_type": "execute_result"
    }
   ],
   "source": [
    "data.shape"
   ]
  },
  {
   "cell_type": "code",
   "execution_count": 4,
   "metadata": {},
   "outputs": [
    {
     "data": {
      "text/plain": [
       "(4568,)"
      ]
     },
     "execution_count": 4,
     "metadata": {},
     "output_type": "execute_result"
    }
   ],
   "source": [
    "data.Ship_to_ID.unique().shape"
   ]
  },
  {
   "cell_type": "code",
   "execution_count": 5,
   "metadata": {},
   "outputs": [],
   "source": [
    "# sns.countplot(x= 'Ship_to_ID', data= data)"
   ]
  },
  {
   "cell_type": "code",
   "execution_count": 6,
   "metadata": {
    "scrolled": true
   },
   "outputs": [
    {
     "name": "stdout",
     "output_type": "stream",
     "text": [
      "col_0       count\n",
      "Ship_to_ID       \n",
      "29000332        1\n",
      "29000441        1\n",
      "29000452        3\n",
      "29000507        4\n",
      "29000721        2\n",
      "...           ...\n",
      "29949357        1\n",
      "29949379        2\n",
      "29949415        1\n",
      "29949533       35\n",
      "29950485        4\n",
      "\n",
      "[4568 rows x 1 columns]\n",
      "<class 'pandas.core.frame.DataFrame'>\n"
     ]
    }
   ],
   "source": [
    "#frequency \n",
    "frequency_table = pd.crosstab(index=data['Ship_to_ID'], columns='count')\n",
    "print(frequency_table)\n",
    "print(type(frequency_table))"
   ]
  },
  {
   "cell_type": "code",
   "execution_count": 7,
   "metadata": {
    "scrolled": true
   },
   "outputs": [
    {
     "name": "stdout",
     "output_type": "stream",
     "text": [
      "col_0       count\n",
      "Ship_to_ID       \n",
      "29000332        1\n",
      "29033040        1\n",
      "29033051        1\n",
      "29083285        1\n",
      "29082976        1\n",
      "...           ...\n",
      "29025044       42\n",
      "29023530       42\n",
      "29039114       53\n",
      "29081238       54\n",
      "29077441       56\n",
      "\n",
      "[4568 rows x 1 columns]\n"
     ]
    }
   ],
   "source": [
    "frequency_table.sort_values(by=['count'], inplace = True)\n",
    "print(frequency_table)"
   ]
  },
  {
   "cell_type": "code",
   "execution_count": 8,
   "metadata": {},
   "outputs": [
    {
     "data": {
      "text/plain": [
       "<AxesSubplot:xlabel='Ship_to_ID', ylabel='count'>"
      ]
     },
     "execution_count": 8,
     "metadata": {},
     "output_type": "execute_result"
    },
    {
     "data": {
      "image/png": "[encoded data removed]",
      "text/plain": [
       "<Figure size 432x288 with 1 Axes>"
      ]
     },
     "metadata": {
      "needs_background": "light"
     },
     "output_type": "display_data"
    }
   ],
   "source": [
    "sns.countplot(x = 'Ship_to_ID', data = data)"
   ]
  },
  {
   "cell_type": "code",
   "execution_count": 9,
   "metadata": {},
   "outputs": [
    {
     "ename": "KeyError",
     "evalue": "\"['Ship-to ID'] not found in axis\"",
     "output_type": "error",
     "traceback": [
      "\u001b[1;31m---------------------------------------------------------------------------\u001b[0m",
      "\u001b[1;31mKeyError\u001b[0m                                  Traceback (most recent call last)",
      "\u001b[1;32m<ipython-input-9-024e0fcef60a>\u001b[0m in \u001b[0;36m<module>\u001b[1;34m\u001b[0m\n\u001b[1;32m----> 1\u001b[1;33m \u001b[0mdata\u001b[0m\u001b[1;33m.\u001b[0m\u001b[0mdrop\u001b[0m\u001b[1;33m(\u001b[0m\u001b[0mcolumns\u001b[0m\u001b[1;33m=\u001b[0m\u001b[1;34m\"Ship-to ID\"\u001b[0m \u001b[1;33m,\u001b[0m \u001b[0minplace\u001b[0m \u001b[1;33m=\u001b[0m \u001b[1;32mTrue\u001b[0m\u001b[1;33m,\u001b[0m \u001b[0maxis\u001b[0m \u001b[1;33m=\u001b[0m\u001b[1;36m1\u001b[0m\u001b[1;33m)\u001b[0m \u001b[1;31m#because ship-to id is unique to everyone and is insignificant to the result\u001b[0m\u001b[1;33m\u001b[0m\u001b[1;33m\u001b[0m\u001b[0m\n\u001b[0m\u001b[0;32m      2\u001b[0m \u001b[0mdata\u001b[0m\u001b[1;33m.\u001b[0m\u001b[0mhead\u001b[0m\u001b[1;33m(\u001b[0m\u001b[1;33m)\u001b[0m\u001b[1;33m\u001b[0m\u001b[1;33m\u001b[0m\u001b[0m\n",
      "\u001b[1;32m~\\anaconda3\\lib\\site-packages\\pandas\\core\\frame.py\u001b[0m in \u001b[0;36mdrop\u001b[1;34m(self, labels, axis, index, columns, level, inplace, errors)\u001b[0m\n\u001b[0;32m   4161\u001b[0m                 \u001b[0mweight\u001b[0m  \u001b[1;36m1.0\u001b[0m     \u001b[1;36m0.8\u001b[0m\u001b[1;33m\u001b[0m\u001b[1;33m\u001b[0m\u001b[0m\n\u001b[0;32m   4162\u001b[0m         \"\"\"\n\u001b[1;32m-> 4163\u001b[1;33m         return super().drop(\n\u001b[0m\u001b[0;32m   4164\u001b[0m             \u001b[0mlabels\u001b[0m\u001b[1;33m=\u001b[0m\u001b[0mlabels\u001b[0m\u001b[1;33m,\u001b[0m\u001b[1;33m\u001b[0m\u001b[1;33m\u001b[0m\u001b[0m\n\u001b[0;32m   4165\u001b[0m             \u001b[0maxis\u001b[0m\u001b[1;33m=\u001b[0m\u001b[0maxis\u001b[0m\u001b[1;33m,\u001b[0m\u001b[1;33m\u001b[0m\u001b[1;33m\u001b[0m\u001b[0m\n",
      "\u001b[1;32m~\\anaconda3\\lib\\site-packages\\pandas\\core\\generic.py\u001b[0m in \u001b[0;36mdrop\u001b[1;34m(self, labels, axis, index, columns, level, inplace, errors)\u001b[0m\n\u001b[0;32m   3885\u001b[0m         \u001b[1;32mfor\u001b[0m \u001b[0maxis\u001b[0m\u001b[1;33m,\u001b[0m \u001b[0mlabels\u001b[0m \u001b[1;32min\u001b[0m \u001b[0maxes\u001b[0m\u001b[1;33m.\u001b[0m\u001b[0mitems\u001b[0m\u001b[1;33m(\u001b[0m\u001b[1;33m)\u001b[0m\u001b[1;33m:\u001b[0m\u001b[1;33m\u001b[0m\u001b[1;33m\u001b[0m\u001b[0m\n\u001b[0;32m   3886\u001b[0m             \u001b[1;32mif\u001b[0m \u001b[0mlabels\u001b[0m \u001b[1;32mis\u001b[0m \u001b[1;32mnot\u001b[0m \u001b[1;32mNone\u001b[0m\u001b[1;33m:\u001b[0m\u001b[1;33m\u001b[0m\u001b[1;33m\u001b[0m\u001b[0m\n\u001b[1;32m-> 3887\u001b[1;33m                 \u001b[0mobj\u001b[0m \u001b[1;33m=\u001b[0m \u001b[0mobj\u001b[0m\u001b[1;33m.\u001b[0m\u001b[0m_drop_axis\u001b[0m\u001b[1;33m(\u001b[0m\u001b[0mlabels\u001b[0m\u001b[1;33m,\u001b[0m \u001b[0maxis\u001b[0m\u001b[1;33m,\u001b[0m \u001b[0mlevel\u001b[0m\u001b[1;33m=\u001b[0m\u001b[0mlevel\u001b[0m\u001b[1;33m,\u001b[0m \u001b[0merrors\u001b[0m\u001b[1;33m=\u001b[0m\u001b[0merrors\u001b[0m\u001b[1;33m)\u001b[0m\u001b[1;33m\u001b[0m\u001b[1;33m\u001b[0m\u001b[0m\n\u001b[0m\u001b[0;32m   3888\u001b[0m \u001b[1;33m\u001b[0m\u001b[0m\n\u001b[0;32m   3889\u001b[0m         \u001b[1;32mif\u001b[0m \u001b[0minplace\u001b[0m\u001b[1;33m:\u001b[0m\u001b[1;33m\u001b[0m\u001b[1;33m\u001b[0m\u001b[0m\n",
      "\u001b[1;32m~\\anaconda3\\lib\\site-packages\\pandas\\core\\generic.py\u001b[0m in \u001b[0;36m_drop_axis\u001b[1;34m(self, labels, axis, level, errors)\u001b[0m\n\u001b[0;32m   3919\u001b[0m                 \u001b[0mnew_axis\u001b[0m \u001b[1;33m=\u001b[0m \u001b[0maxis\u001b[0m\u001b[1;33m.\u001b[0m\u001b[0mdrop\u001b[0m\u001b[1;33m(\u001b[0m\u001b[0mlabels\u001b[0m\u001b[1;33m,\u001b[0m \u001b[0mlevel\u001b[0m\u001b[1;33m=\u001b[0m\u001b[0mlevel\u001b[0m\u001b[1;33m,\u001b[0m \u001b[0merrors\u001b[0m\u001b[1;33m=\u001b[0m\u001b[0merrors\u001b[0m\u001b[1;33m)\u001b[0m\u001b[1;33m\u001b[0m\u001b[1;33m\u001b[0m\u001b[0m\n\u001b[0;32m   3920\u001b[0m             \u001b[1;32melse\u001b[0m\u001b[1;33m:\u001b[0m\u001b[1;33m\u001b[0m\u001b[1;33m\u001b[0m\u001b[0m\n\u001b[1;32m-> 3921\u001b[1;33m                 \u001b[0mnew_axis\u001b[0m \u001b[1;33m=\u001b[0m \u001b[0maxis\u001b[0m\u001b[1;33m.\u001b[0m\u001b[0mdrop\u001b[0m\u001b[1;33m(\u001b[0m\u001b[0mlabels\u001b[0m\u001b[1;33m,\u001b[0m \u001b[0merrors\u001b[0m\u001b[1;33m=\u001b[0m\u001b[0merrors\u001b[0m\u001b[1;33m)\u001b[0m\u001b[1;33m\u001b[0m\u001b[1;33m\u001b[0m\u001b[0m\n\u001b[0m\u001b[0;32m   3922\u001b[0m             \u001b[0mresult\u001b[0m \u001b[1;33m=\u001b[0m \u001b[0mself\u001b[0m\u001b[1;33m.\u001b[0m\u001b[0mreindex\u001b[0m\u001b[1;33m(\u001b[0m\u001b[1;33m**\u001b[0m\u001b[1;33m{\u001b[0m\u001b[0maxis_name\u001b[0m\u001b[1;33m:\u001b[0m \u001b[0mnew_axis\u001b[0m\u001b[1;33m}\u001b[0m\u001b[1;33m)\u001b[0m\u001b[1;33m\u001b[0m\u001b[1;33m\u001b[0m\u001b[0m\n\u001b[0;32m   3923\u001b[0m \u001b[1;33m\u001b[0m\u001b[0m\n",
      "\u001b[1;32m~\\anaconda3\\lib\\site-packages\\pandas\\core\\indexes\\base.py\u001b[0m in \u001b[0;36mdrop\u001b[1;34m(self, labels, errors)\u001b[0m\n\u001b[0;32m   5280\u001b[0m         \u001b[1;32mif\u001b[0m \u001b[0mmask\u001b[0m\u001b[1;33m.\u001b[0m\u001b[0many\u001b[0m\u001b[1;33m(\u001b[0m\u001b[1;33m)\u001b[0m\u001b[1;33m:\u001b[0m\u001b[1;33m\u001b[0m\u001b[1;33m\u001b[0m\u001b[0m\n\u001b[0;32m   5281\u001b[0m             \u001b[1;32mif\u001b[0m \u001b[0merrors\u001b[0m \u001b[1;33m!=\u001b[0m \u001b[1;34m\"ignore\"\u001b[0m\u001b[1;33m:\u001b[0m\u001b[1;33m\u001b[0m\u001b[1;33m\u001b[0m\u001b[0m\n\u001b[1;32m-> 5282\u001b[1;33m                 \u001b[1;32mraise\u001b[0m \u001b[0mKeyError\u001b[0m\u001b[1;33m(\u001b[0m\u001b[1;34mf\"{labels[mask]} not found in axis\"\u001b[0m\u001b[1;33m)\u001b[0m\u001b[1;33m\u001b[0m\u001b[1;33m\u001b[0m\u001b[0m\n\u001b[0m\u001b[0;32m   5283\u001b[0m             \u001b[0mindexer\u001b[0m \u001b[1;33m=\u001b[0m \u001b[0mindexer\u001b[0m\u001b[1;33m[\u001b[0m\u001b[1;33m~\u001b[0m\u001b[0mmask\u001b[0m\u001b[1;33m]\u001b[0m\u001b[1;33m\u001b[0m\u001b[1;33m\u001b[0m\u001b[0m\n\u001b[0;32m   5284\u001b[0m         \u001b[1;32mreturn\u001b[0m \u001b[0mself\u001b[0m\u001b[1;33m.\u001b[0m\u001b[0mdelete\u001b[0m\u001b[1;33m(\u001b[0m\u001b[0mindexer\u001b[0m\u001b[1;33m)\u001b[0m\u001b[1;33m\u001b[0m\u001b[1;33m\u001b[0m\u001b[0m\n",
      "\u001b[1;31mKeyError\u001b[0m: \"['Ship-to ID'] not found in axis\""
     ]
    }
   ],
   "source": [
    "data.drop(columns=\"Ship-to ID\" , inplace = True, axis =1) #because ship-to id is unique to everyone and is insignificant to the result\n",
    "data.head() "
   ]
  },
  {
   "cell_type": "code",
   "execution_count": null,
   "metadata": {},
   "outputs": [],
   "source": [
    "print(\"Total Rows = \" + str(data.shape[0]) + \"\\nTotal Columns = \" + str(data.shape[1])) "
   ]
  },
  {
   "cell_type": "markdown",
   "metadata": {},
   "source": [
    "Clearly, Dataset comprises of 39859 observations and 19 characteristics.\n"
   ]
  },
  {
   "cell_type": "code",
   "execution_count": null,
   "metadata": {},
   "outputs": [],
   "source": [
    "data.info() #columns and corresponding data types, finding whether they contain null values or not"
   ]
  },
  {
   "cell_type": "markdown",
   "metadata": {},
   "source": [
    "No variable column has null/missing values."
   ]
  },
  {
   "cell_type": "code",
   "execution_count": null,
   "metadata": {},
   "outputs": [],
   "source": [
    "data.describe()"
   ]
  },
  {
   "cell_type": "code",
   "execution_count": null,
   "metadata": {},
   "outputs": [],
   "source": [
    "data.nunique()"
   ]
  },
  {
   "cell_type": "code",
   "execution_count": null,
   "metadata": {},
   "outputs": [],
   "source": [
    "#Data Wrangling\n",
    "\n",
    "#We will examine each attribute and look for outliers and redundancies\n",
    "\n",
    "data.sfdc_tier.unique()"
   ]
  },
  {
   "cell_type": "code",
   "execution_count": null,
   "metadata": {},
   "outputs": [],
   "source": [
    "data.poc_image.unique()"
   ]
  },
  {
   "cell_type": "code",
   "execution_count": null,
   "metadata": {},
   "outputs": [],
   "source": [
    "(data.poc_image=='0').sum() "
   ]
  },
  {
   "cell_type": "code",
   "execution_count": null,
   "metadata": {},
   "outputs": [],
   "source": [
    "#We need to drop the 0 values\n",
    "\n",
    "data = data.loc[data[\"poc_image\"] != '0']\n",
    "data.shape"
   ]
  },
  {
   "cell_type": "code",
   "execution_count": null,
   "metadata": {},
   "outputs": [],
   "source": [
    "data.segment.unique()"
   ]
  },
  {
   "cell_type": "code",
   "execution_count": null,
   "metadata": {},
   "outputs": [],
   "source": [
    "(data.segment=='Not applicable').sum() "
   ]
  },
  {
   "cell_type": "code",
   "execution_count": null,
   "metadata": {},
   "outputs": [],
   "source": [
    "#We need to drop the Not Applicable values\n",
    "\n",
    "data = data.loc[data[\"segment\"] != 'Not applicable']\n",
    "data.shape"
   ]
  },
  {
   "cell_type": "code",
   "execution_count": null,
   "metadata": {},
   "outputs": [],
   "source": [
    "data.sub_segment.unique()"
   ]
  },
  {
   "cell_type": "code",
   "execution_count": null,
   "metadata": {},
   "outputs": [],
   "source": [
    "data.Product_Set.unique().shape"
   ]
  },
  {
   "cell_type": "code",
   "execution_count": null,
   "metadata": {},
   "outputs": [],
   "source": [
    "data.Brand.unique()"
   ]
  },
  {
   "cell_type": "code",
   "execution_count": null,
   "metadata": {},
   "outputs": [],
   "source": [
    "data.Sub_Brand.unique().shape"
   ]
  },
  {
   "cell_type": "code",
   "execution_count": null,
   "metadata": {},
   "outputs": [],
   "source": [
    "data.Pack_Type.unique()"
   ]
  },
  {
   "cell_type": "code",
   "execution_count": null,
   "metadata": {},
   "outputs": [],
   "source": [
    "sns.countplot(x=\"Pack_Type\", data= data)"
   ]
  },
  {
   "cell_type": "code",
   "execution_count": null,
   "metadata": {},
   "outputs": [],
   "source": [
    "data.Returnalility.unique()"
   ]
  },
  {
   "cell_type": "code",
   "execution_count": null,
   "metadata": {},
   "outputs": [],
   "source": [
    "sns.countplot(x=\"Returnalility\", data= data)"
   ]
  },
  {
   "cell_type": "code",
   "execution_count": null,
   "metadata": {},
   "outputs": [],
   "source": [
    "data.province.unique()"
   ]
  },
  {
   "cell_type": "markdown",
   "metadata": {},
   "source": [
    "Volume_2018_customer_level, Volume_2018_customer_level, OnInvoice Discount(LCU), OffInvoice Discount(LCU), Volume_2019,Tax and Discount_Total have continuous values."
   ]
  },
  {
   "cell_type": "code",
   "execution_count": null,
   "metadata": {},
   "outputs": [],
   "source": [
    "# feature processing\n",
    "\n",
    "poc_image = pd.get_dummies(data['poc_image'], drop_first = True)\n",
    "# 0 corresponds to mainstream, 1 corresponds to premium\n",
    "\n",
    "sfdc_tier = pd.get_dummies(data['sfdc_tier'], drop_first = True)\n",
    "# 0 0 corresponds to tier 3\n",
    "\n",
    "Returnalility= pd.get_dummies(data['Returnalility'], drop_first = True)\n",
    "# 1 corresponds to returnable, 0 corresponds to OW\n",
    "\n",
    "data= pd.concat([data, poc_image, sfdc_tier, Returnalility], axis = 1)\n",
    "data.drop([ 'poc_image', 'Returnalility'], axis =1, inplace = True)\n",
    "data.head()"
   ]
  },
  {
   "cell_type": "markdown",
   "metadata": {},
   "source": [
    "We would like to add another column which determines the change in the consumption by the consumer.\n",
    "Also, we will like to specially identify the new customers, i.e have \"Volume_2018_customer_level = 0\"\n"
   ]
  },
  {
   "cell_type": "code",
   "execution_count": null,
   "metadata": {
    "scrolled": false
   },
   "outputs": [],
   "source": [
    "diff = (data.Volume_2019_customer_level - data.Volume_2018_customer_level)*1\n",
    "data.insert(2, \"Difference\", diff, True)\n",
    "\n",
    "new_customer = (data.Volume_2018_customer_level==0)*1\n",
    "data.insert(2, \"New_customer\", new_customer, True)\n",
    "\n",
    "data.drop(['Volume_2019_customer_level', 'Volume_2018_customer_level'], axis = 1, inplace = True)\n",
    "\n",
    "data.head()"
   ]
  },
  {
   "cell_type": "code",
   "execution_count": null,
   "metadata": {},
   "outputs": [],
   "source": [
    "data.drop(['OnInvoice Discount(LCU)', 'OffInvoice Discount(LCU)', 'Product_Set'], axis = 1, inplace = True)\n",
    "\n",
    "#Since we are only calculating only total_discount for now"
   ]
  },
  {
   "cell_type": "code",
   "execution_count": null,
   "metadata": {},
   "outputs": [],
   "source": [
    "data.head()"
   ]
  },
  {
   "cell_type": "code",
   "execution_count": null,
   "metadata": {},
   "outputs": [],
   "source": [
    "#We can analyse the relationship between the parameters through corelation\n",
    "\n",
    "corelation = data.corr()\n",
    "sns.heatmap(corelation, xticklabels= corelation.columns, yticklabels = corelation.columns, annot = True)"
   ]
  },
  {
   "cell_type": "code",
   "execution_count": null,
   "metadata": {},
   "outputs": [],
   "source": [
    "#observing the relationship between Volume_2019, Discount_Total and GTO_2019\n",
    "\n",
    "n= data.shape[0] + 1\n",
    "\n",
    "x = list(range(1, n))\n",
    "y = data.Volume_2019\n",
    "plt.plot(x, y) \n",
    "plt.xlabel('Serial Number')\n",
    "plt.ylabel('Volume_2019')\n",
    "plt.show()\n",
    "\n",
    "x = list(range(1, n))\n",
    "y = data.Discount_Total \n",
    "plt.plot(x, y) \n",
    "plt.xlabel('Serial Number')\n",
    "plt.ylabel('Discount_Total')\n",
    "plt.show()\n",
    "\n",
    "\n",
    "x = list(range(1, n))\n",
    "y = data.GTO_2019\n",
    "plt.plot(x, y)\n",
    "plt.xlabel('Serial Number')\n",
    "plt.ylabel('GTO_2019')\n",
    "plt.show()"
   ]
  },
  {
   "cell_type": "markdown",
   "metadata": {},
   "source": [
    "We can clearly see that the shape of the graphs is very similar, which indicates that they have a linear relationship."
   ]
  },
  {
   "cell_type": "code",
   "execution_count": null,
   "metadata": {},
   "outputs": [],
   "source": [
    "data = data.loc[data[\"Volume_2019\"] != 0]\n",
    "\n",
    "GTO_per_unit_vol = data.GTO_2019 / data.Volume_2019\n",
    "data.insert(2, \"GTO_per_unit_vol\", GTO_per_unit_vol, True)\n",
    "\n",
    "Tax_per_unit_vol = data.Tax / data.Volume_2019\n",
    "data.insert(2, \"Tax_per_unit_vol\", Tax_per_unit_vol, True)\n",
    "\n",
    "data.drop(['Volume_2019', 'GTO_2019','Tax'], inplace= True, axis = 1)"
   ]
  },
  {
   "cell_type": "code",
   "execution_count": null,
   "metadata": {},
   "outputs": [],
   "source": [
    "n = data.shape[0] + 1\n",
    "# x axis values\n",
    "x = list(range(1, n))\n",
    "# corresponding y axis values\n",
    "y = data.GTO_per_unit_vol\n",
    " \n",
    "\n",
    "plt.ylim([-40000, 25000])\n",
    "\n",
    "# plotting the points\n",
    "plt.plot(x, y)\n",
    " \n",
    "# naming the x axis\n",
    "plt.xlabel('Serial Number')\n",
    "# naming the y axis\n",
    "plt.ylabel('GTO_per_unit_vol')\n",
    " \n",
    "# function to show the plot\n",
    "plt.show()"
   ]
  },
  {
   "cell_type": "markdown",
   "metadata": {},
   "source": [
    "We need to maximise the GTO/Volume, so we can omit the negative values."
   ]
  },
  {
   "cell_type": "code",
   "execution_count": null,
   "metadata": {},
   "outputs": [],
   "source": [
    "data = data.loc[data[\"GTO_per_unit_vol\"] > 0]\n",
    "data.shape"
   ]
  },
  {
   "cell_type": "code",
   "execution_count": null,
   "metadata": {},
   "outputs": [],
   "source": [
    "n = data.shape[0] + 1\n",
    "# x axis values\n",
    "x = list(range(1, n))\n",
    "# corresponding y axis values\n",
    "y = data.GTO_per_unit_vol\n",
    " \n",
    "\n",
    "plt.ylim([0, 25000])\n",
    "\n",
    "# plotting the points\n",
    "plt.plot(x, y)\n",
    " \n",
    "# naming the x axis\n",
    "plt.xlabel('Serial Number')\n",
    "# naming the y axis\n",
    "plt.ylabel('GTO_per_unit_vol')\n",
    " \n",
    "# function to show the plot\n",
    "plt.show()"
   ]
  },
  {
   "cell_type": "markdown",
   "metadata": {},
   "source": [
    "Clearly, there are some outliers which we have to figure out."
   ]
  },
  {
   "cell_type": "code",
   "execution_count": null,
   "metadata": {},
   "outputs": [],
   "source": [
    "(data.GTO_per_unit_vol>=5000).sum()"
   ]
  },
  {
   "cell_type": "code",
   "execution_count": null,
   "metadata": {},
   "outputs": [],
   "source": [
    "data = data.loc[data[\"GTO_per_unit_vol\"] < 5000]"
   ]
  },
  {
   "cell_type": "code",
   "execution_count": null,
   "metadata": {},
   "outputs": [],
   "source": [
    "n = data.shape[0] + 1\n",
    "# x axis values\n",
    "x = list(range(1, n))\n",
    "# corresponding y axis values\n",
    "y = data.GTO_per_unit_vol\n",
    " \n",
    "\n",
    "plt.ylim([0, 2800])\n",
    "\n",
    "# plotting the points\n",
    "plt.plot(x, y)\n",
    " \n",
    "# naming the x axis\n",
    "plt.xlabel('Serial Number')\n",
    "# naming the y axis\n",
    "plt.ylabel('GTO_per_unit_vol')\n",
    " \n",
    "# function to show the plot\n",
    "plt.show()"
   ]
  },
  {
   "cell_type": "code",
   "execution_count": null,
   "metadata": {},
   "outputs": [],
   "source": [
    "data_high = data.loc[data[\"GTO_per_unit_vol\"] > 500]\n",
    "data_high.shape"
   ]
  },
  {
   "cell_type": "markdown",
   "metadata": {},
   "source": [
    "Lets observe the high GTO/Vol values"
   ]
  },
  {
   "cell_type": "code",
   "execution_count": null,
   "metadata": {
    "scrolled": true
   },
   "outputs": [],
   "source": [
    "data_high.head(10)"
   ]
  },
  {
   "cell_type": "code",
   "execution_count": null,
   "metadata": {},
   "outputs": [],
   "source": [
    "sns.countplot(x=\"Pack_Type\", data= data_high)"
   ]
  },
  {
   "cell_type": "code",
   "execution_count": null,
   "metadata": {},
   "outputs": [],
   "source": [
    "sns.countplot(x = \"sfdc_tier\", data= data_high)"
   ]
  },
  {
   "cell_type": "code",
   "execution_count": null,
   "metadata": {},
   "outputs": [],
   "source": [
    "sns.countplot(x = \"province\", hue = 'sfdc_tier', data= data_high)"
   ]
  },
  {
   "cell_type": "code",
   "execution_count": null,
   "metadata": {},
   "outputs": [],
   "source": [
    "sns.countplot(x = \"Brand\", data= data_high)"
   ]
  },
  {
   "cell_type": "code",
   "execution_count": null,
   "metadata": {
    "scrolled": true
   },
   "outputs": [],
   "source": [
    "sns.countplot(x = \"segment\", data= data_high)"
   ]
  },
  {
   "cell_type": "code",
   "execution_count": null,
   "metadata": {},
   "outputs": [],
   "source": [
    "sns.countplot(x = \"RETURNABLE\", data= data_high)"
   ]
  },
  {
   "cell_type": "markdown",
   "metadata": {},
   "source": [
    "Clearly there are specific attribute distribution."
   ]
  },
  {
   "cell_type": "code",
   "execution_count": null,
   "metadata": {},
   "outputs": [],
   "source": [
    "data.drop('sfdc_tier', axis = 1, inplace = True)\n",
    "data.head()"
   ]
  },
  {
   "cell_type": "markdown",
   "metadata": {},
   "source": [
    "We will be making a different set of data for people visiting for the first time."
   ]
  },
  {
   "cell_type": "code",
   "execution_count": null,
   "metadata": {
    "scrolled": false
   },
   "outputs": [],
   "source": [
    "data_new_customers= data.loc[data[\"New_customer\"]==1]\n",
    "data_new_customers.drop(['New_customer','Difference'], axis=1, inplace = True)\n",
    "data_new_customers.shape"
   ]
  },
  {
   "cell_type": "code",
   "execution_count": null,
   "metadata": {
    "scrolled": true
   },
   "outputs": [],
   "source": [
    "data_new_customers.head()"
   ]
  },
  {
   "cell_type": "code",
   "execution_count": null,
   "metadata": {},
   "outputs": [],
   "source": [
    "data_not_new = data.loc[data[\"New_customer\"]==0]\n",
    "data_not_new.drop('New_customer', axis = 1, inplace = True)"
   ]
  },
  {
   "cell_type": "markdown",
   "metadata": {},
   "source": [
    "Now, we can also make a dataset of customers who ordered less product than 2018"
   ]
  },
  {
   "cell_type": "code",
   "execution_count": null,
   "metadata": {},
   "outputs": [],
   "source": [
    "data_diff_neg = data_not_new.loc[data[\"Difference\"]<0]\n",
    "data_diff_neg.drop('Difference', axis = 1, inplace =True)\n",
    "data_diff_neg.shape"
   ]
  },
  {
   "cell_type": "code",
   "execution_count": null,
   "metadata": {},
   "outputs": [],
   "source": [
    "data_diff_neg.head()"
   ]
  },
  {
   "cell_type": "markdown",
   "metadata": {},
   "source": [
    "Similarly, we can make a set of customers ordered equal or more than 2018"
   ]
  },
  {
   "cell_type": "code",
   "execution_count": null,
   "metadata": {},
   "outputs": [],
   "source": [
    "data_diff_noneg = data_not_new.loc[data[\"Difference\"]>=0]\n",
    "data_diff_noneg.drop('Difference', axis = 1, inplace =True)\n",
    "data_diff_noneg.shape"
   ]
  },
  {
   "cell_type": "code",
   "execution_count": null,
   "metadata": {
    "scrolled": true
   },
   "outputs": [],
   "source": [
    "data_diff_noneg.head()"
   ]
  },
  {
   "cell_type": "code",
   "execution_count": null,
   "metadata": {},
   "outputs": [],
   "source": [
    "data.to_csv(r'C:\\Users\\shrey\\ML\\ABinBev\\data.csv', index=False)\n",
    "data_new_customers.to_csv(r'C:\\Users\\shrey\\ML\\ABinBev\\data_new_customers.csv', index=False)\n",
    "data_diff_neg.to_csv(r'C:\\Users\\shrey\\ML\\ABinBev\\data_diff_neg.csv', index=False)\n",
    "data_diff_noneg.to_csv(r'C:\\Users\\shrey\\ML\\ABinBev\\data_diff_noneg.csv', index=False)"
   ]
  }
 ],
 "metadata": {
  "kernelspec": {
   "display_name": "Python 3",
   "language": "python",
   "name": "python3"
  },
  "language_info": {
   "codemirror_mode": {
    "name": "ipython",
    "version": 3
   },
   "file_extension": ".py",
   "mimetype": "text/x-python",
   "name": "python",
   "nbconvert_exporter": "python",
   "pygments_lexer": "ipython3",
   "version": "3.8.5"
  }
 },
 "nbformat": 4,
 "nbformat_minor": 4
}
